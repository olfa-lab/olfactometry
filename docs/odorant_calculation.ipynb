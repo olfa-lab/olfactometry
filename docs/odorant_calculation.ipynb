{
 "cells": [
  {
   "cell_type": "code",
   "execution_count": 44,
   "metadata": {
    "collapsed": true
   },
   "outputs": [],
   "source": [
    "from __future__ import division"
   ]
  },
  {
   "cell_type": "code",
   "execution_count": 22,
   "metadata": {
    "collapsed": false
   },
   "outputs": [],
   "source": [
    "class chemical:\n",
    "    def __init__( self, name, gmol, gml, mmhg ):\n",
    "           \n",
    "        self.name = name\n",
    "        self.gmol = gmol\n",
    "        self.gml = gml\n",
    "        self.mmhg = mmhg"
   ]
  },
  {
   "cell_type": "code",
   "execution_count": 103,
   "metadata": {
    "collapsed": true
   },
   "outputs": [],
   "source": [
    "class mixture:\n",
    "    \n",
    "    def __init__(self, solvent, odor, totalml, desiredhm):\n",
    "        \n",
    "        self.solvent = solvent\n",
    "        self.odor = odor\n",
    "        self.totalml = totalml\n",
    "        self.desiredhm = desiredhm # desired headspace molarity in μmol\n",
    "        \n",
    "        self.calculate()\n",
    "    \n",
    "    def calculate( self ):\n",
    "        \n",
    "        neaths = self.odor.mmhg/760.0 # neat headspace mole fraction\n",
    "        neatmol = neaths * 0.04088 # neat headspace molarity\n",
    "        desiredmf = self.desiredhm * ( 1e-6 / neatmol )\n",
    "        \n",
    "        volratio = ( self.solvent.gml * self.odor.gmol ) / ( self.solvent.gmol * self.odor.gml * ( 1.0/desiredmf - 1.0 ) )\n",
    "        odorml = self.totalml / ( 1.0 + ( 1.0 / volratio ) )\n",
    "        solventml = odorml / volratio\n",
    "        \n",
    "        print '{0}: desired headspace molarity {1} μmol'.format( self.odor.name, self.desiredhm )\n",
    "        print 'Total volume {0} mL'.format( self.totalml )\n",
    "        print 'Odor to add: {0} μL {1}'.format( odorml*1e3, self.odor.name )\n",
    "        print 'Solvent to add: {0} mL {1}'.format( solventml, self.solvent.name )"
   ]
  },
  {
   "cell_type": "code",
   "execution_count": null,
   "metadata": {
    "collapsed": true
   },
   "outputs": [],
   "source": [
    "'''\n",
    "Odor calculation for olfactometry:\n",
    "\n",
    "Add odorant and solvent with chemical( \n",
    "\n",
    "name,\n",
    "molecular weight in g/mol,\n",
    "density in g/mL,\n",
    "vapor pressure in mm/Hg\n",
    "\n",
    ")\n",
    "\n",
    "Apply calculation with mixture(\n",
    "\n",
    "solvent,\n",
    "chemical,\n",
    "total volume in mL,\n",
    "desired headspace molarity in μmol\n",
    "\n",
    ")\n",
    "'''"
   ]
  },
  {
   "cell_type": "code",
   "execution_count": 107,
   "metadata": {
    "collapsed": false
   },
   "outputs": [],
   "source": [
    "#odorants\n",
    "IPA = chemical( 'IPA', 87.16342, 0.751, 51.1 )\n",
    "PEA = chemical( 'PEA', 121.18,0.962,0.409 )\n",
    "#solvents\n",
    "h2o = chemical( 'h2o', 18.01528,1.0,'')"
   ]
  },
  {
   "cell_type": "code",
   "execution_count": 110,
   "metadata": {
    "collapsed": false
   },
   "outputs": [
    {
     "name": "stdout",
     "output_type": "stream",
     "text": [
      "PEA: desired headspace molarity 0.2 μmol\n",
      "Total volume 5.0 mL\n",
      "Odor to add: 301.410229443 μL PEA\n",
      "Solvent to add: 4.69858977056 mL h2o\n"
     ]
    },
    {
     "data": {
      "text/plain": [
       "<__main__.mixture instance at 0x00000000046B9208>"
      ]
     },
     "execution_count": 110,
     "metadata": {},
     "output_type": "execute_result"
    }
   ],
   "source": [
    "mixture( h2o, PEA, 5.0, 0.2)"
   ]
  },
  {
   "cell_type": "code",
   "execution_count": 111,
   "metadata": {
    "collapsed": false
   },
   "outputs": [
    {
     "name": "stdout",
     "output_type": "stream",
     "text": [
      "PEA: desired headspace molarity 0.02 μmol\n",
      "Total volume 5.0 mL\n",
      "Odor to add: 31.6107543718 μL PEA\n",
      "Solvent to add: 4.96838924563 mL h2o\n"
     ]
    },
    {
     "data": {
      "text/plain": [
       "<__main__.mixture instance at 0x00000000046B9448>"
      ]
     },
     "execution_count": 111,
     "metadata": {},
     "output_type": "execute_result"
    }
   ],
   "source": [
    "mixture( h2o, PEA, 5.0, 0.02)"
   ]
  },
  {
   "cell_type": "code",
   "execution_count": 113,
   "metadata": {
    "collapsed": false
   },
   "outputs": [
    {
     "name": "stdout",
     "output_type": "stream",
     "text": [
      "IPA: desired headspace molarity 0.24 μmol\n",
      "Total volume 5.0 mL\n",
      "Odor to add: 2.81131833827 μL IPA\n",
      "Solvent to add: 4.99718868166 mL h2o\n"
     ]
    },
    {
     "data": {
      "text/plain": [
       "<__main__.mixture instance at 0x0000000004725088>"
      ]
     },
     "execution_count": 113,
     "metadata": {},
     "output_type": "execute_result"
    }
   ],
   "source": [
    "mixture( h2o, IPA, 5.0, 0.24)"
   ]
  },
  {
   "cell_type": "code",
   "execution_count": 115,
   "metadata": {
    "collapsed": false
   },
   "outputs": [
    {
     "name": "stdout",
     "output_type": "stream",
     "text": [
      "IPA: desired headspace molarity 2.4 μmol\n",
      "Total volume 5.0 mL\n",
      "Odor to add: 27.993513807 μL IPA\n",
      "Solvent to add: 4.97200648619 mL h2o\n"
     ]
    },
    {
     "data": {
      "text/plain": [
       "<__main__.mixture instance at 0x00000000047259C8>"
      ]
     },
     "execution_count": 115,
     "metadata": {},
     "output_type": "execute_result"
    }
   ],
   "source": [
    "mixture( h2o, IPA, 5.0, 2.4)"
   ]
  }
 ],
 "metadata": {
  "kernelspec": {
   "display_name": "Python 2",
   "language": "python",
   "name": "python2"
  },
  "language_info": {
   "codemirror_mode": {
    "name": "ipython",
    "version": 2.0
   },
   "file_extension": ".py",
   "mimetype": "text/x-python",
   "name": "python",
   "nbconvert_exporter": "python",
   "pygments_lexer": "ipython2",
   "version": "2.7.11"
  }
 },
 "nbformat": 4,
 "nbformat_minor": 0
}